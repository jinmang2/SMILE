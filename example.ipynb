{
 "cells": [
  {
   "cell_type": "code",
   "execution_count": 1,
   "metadata": {},
   "outputs": [],
   "source": [
    "import numpy as np\n",
    "import pandas as pd"
   ]
  },
  {
   "cell_type": "code",
   "execution_count": 2,
   "metadata": {},
   "outputs": [
    {
     "data": {
      "text/plain": [
       "Timestamp('2020-02-12 15:01:06.901036')"
      ]
     },
     "execution_count": 2,
     "metadata": {},
     "output_type": "execute_result"
    }
   ],
   "source": [
    "pd.Timestamp.today() - pd.Timedelta('166 days')"
   ]
  },
  {
   "cell_type": "code",
   "execution_count": 3,
   "metadata": {},
   "outputs": [
    {
     "data": {
      "text/plain": [
       "DatetimeIndex(['2022-02-18'], dtype='datetime64[ns]', freq=None)"
      ]
     },
     "execution_count": 3,
     "metadata": {},
     "output_type": "execute_result"
    }
   ],
   "source": [
    "pd.date_range('1994-10-03', periods=1, freq='D') + pd.Timedelta('10000 days')"
   ]
  },
  {
   "cell_type": "code",
   "execution_count": 4,
   "metadata": {},
   "outputs": [
    {
     "data": {
      "text/plain": [
       "Timedelta('9429 days 00:00:00')"
      ]
     },
     "execution_count": 4,
     "metadata": {},
     "output_type": "execute_result"
    }
   ],
   "source": [
    "pd.Timestamp('20200727') - pd.Timestamp('19941003')"
   ]
  },
  {
   "cell_type": "code",
   "execution_count": 5,
   "metadata": {},
   "outputs": [],
   "source": [
    "text = '이런 자세가? 기묘한 태권도에 웃음바다𐨛𐨛𐨛ㅋㅋㅋzzzAASDDFS'"
   ]
  },
  {
   "cell_type": "code",
   "execution_count": 6,
   "metadata": {},
   "outputs": [
    {
     "data": {
      "text/plain": [
       "'이런 자세가? 기묘한 태권도에 웃음바다   ㅋㅋㅋzzzAASDDFS'"
      ]
     },
     "execution_count": 6,
     "metadata": {},
     "output_type": "execute_result"
    }
   ],
   "source": [
    "import re\n",
    "\n",
    "re.sub(\"[^ㄱ-ㅎㅏ-ㅣ가-힣?a-zA-Z]\", \" \", text)"
   ]
  },
  {
   "cell_type": "code",
   "execution_count": 7,
   "metadata": {},
   "outputs": [],
   "source": [
    "from khaiii import KhaiiiApi\n",
    "\n",
    "api = KhaiiiApi()"
   ]
  },
  {
   "cell_type": "code",
   "execution_count": 12,
   "metadata": {},
   "outputs": [],
   "source": [
    "from konlpy.tag import Mecab\n",
    "\n",
    "mecab = Mecab()"
   ]
  },
  {
   "cell_type": "code",
   "execution_count": 17,
   "metadata": {},
   "outputs": [
    {
     "data": {
      "text/plain": [
       "'이런/MM + 자세/NNG + 가/JKS + ?/SF + 기묘/XR + 한/XSA+ETM + 태권도/NNG + 에/JKB + 웃음바다/NNG + 𐨛𐨛𐨛/SY + ㅋㅋㅋ/IC + zzzAASDDFS/SL'"
      ]
     },
     "execution_count": 17,
     "metadata": {},
     "output_type": "execute_result"
    }
   ],
   "source": [
    "' + '.join(\n",
    "    list(\n",
    "        map(\n",
    "            lambda s: '/'.join(s),\n",
    "            mecab.pos('이런 자세가? 기묘한 태권도에 웃음바다𐨛𐨛𐨛ㅋㅋㅋzzzAASDDFS')\n",
    "        )\n",
    "    )\n",
    ")"
   ]
  },
  {
   "cell_type": "code",
   "execution_count": 16,
   "metadata": {},
   "outputs": [
    {
     "data": {
      "text/plain": [
       "'이런/MM + 자세/NNG + 가/JKS + ?/SF + 기묘/XR + 하/XSA + ㄴ/ETM + 태권도/NNG + 에/JKB + 웃음바다/NNG + 𐨛/XSV + 𐨛/NNG + 𐨛/IC + ㅋㅋ/SW + ㅋ/IC + zzzAASDDFS/SL'"
      ]
     },
     "execution_count": 16,
     "metadata": {},
     "output_type": "execute_result"
    }
   ],
   "source": [
    "' + '.join(\n",
    "    list(\n",
    "        map(\n",
    "            lambda s: str(s).split('\\t')[1],\n",
    "            api.analyze('이런 자세가? 기묘한 태권도에 웃음바다𐨛𐨛𐨛ㅋㅋㅋzzzAASDDFS')\n",
    "        )\n",
    "    )\n",
    ")"
   ]
  },
  {
   "cell_type": "code",
   "execution_count": null,
   "metadata": {},
   "outputs": [],
   "source": []
  }
 ],
 "metadata": {
  "kernelspec": {
   "display_name": "basic",
   "language": "python",
   "name": "basic"
  },
  "language_info": {
   "codemirror_mode": {
    "name": "ipython",
    "version": 3
   },
   "file_extension": ".py",
   "mimetype": "text/x-python",
   "name": "python",
   "nbconvert_exporter": "python",
   "pygments_lexer": "ipython3",
   "version": "3.7.7"
  }
 },
 "nbformat": 4,
 "nbformat_minor": 4
}
